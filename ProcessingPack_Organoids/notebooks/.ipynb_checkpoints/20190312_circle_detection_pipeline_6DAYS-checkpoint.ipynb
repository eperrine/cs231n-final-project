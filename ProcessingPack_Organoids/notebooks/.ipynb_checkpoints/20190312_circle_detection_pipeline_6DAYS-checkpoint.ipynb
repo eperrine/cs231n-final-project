{
 "cells": [
  {
   "cell_type": "code",
   "execution_count": null,
   "metadata": {
    "collapsed": true
   },
   "outputs": [],
   "source": [
    "# !/usr/bin/env python\n",
    "\n",
    "# [Future imports]\n",
    "# \"print\" function compatibility between Python 2.x and 3.x\n",
    "from __future__ import print_function\n",
    "# Use Python 3.x \"/\" for division in Pyhton 2.x\n",
    "from __future__ import division\n",
    "\n",
    "# description       : file to display jpg images from a Traptasia movie in a grid\n",
    "# author            : Kara Brower           [Original author(s) of this file]\n",
    "# date              : 20181016                 [Initial date yyyymmdd]\n",
    "# version update    : 20181016               [Last version update yyyymmdd]\n",
    "# version           : v0.1\n",
    "# usage             : \n",
    "# python_version    : 2.7\n",
    "\"\"\n",
    "\n",
    "# General Python\n",
    "import sys\n",
    "import os\n",
    "sys.path.append('./')\n",
    "# Data structures\n",
    "import numpy as np\n",
    "from matplotlib import pyplot as plt\n",
    "import matplotlib as mpl\n",
    "import matplotlib.image as mpimg\n",
    "import cv2\n",
    "import cv2.cv2 as cv\n",
    "dpi = 300\n",
    "mpl.rc(\"savefig\", dpi=dpi)\n",
    "%matplotlib inline\n",
    "from scipy import ndimage\n",
    "from scipy.stats.stats import pearsonr\n",
    "from scipy.stats.stats import spearmanr\n",
    "from scipy import stats\n",
    "from scipy.optimize import curve_fit\n",
    "from scipy.optimize import leastsq\n",
    "from PIL import Image, ImageEnhance\n",
    "import seaborn as sns\n",
    "import pandas as pd\n",
    "import math\n",
    "import skimage as sk\n",
    "import skimage.morphology\n",
    "import skimage.segmentation\n",
    "from scipy import ndimage as ndi\n",
    "sns.set_style(\"ticks\")"
   ]
  },
  {
   "cell_type": "code",
   "execution_count": null,
   "metadata": {
    "collapsed": true
   },
   "outputs": [],
   "source": [
    "# Read image, equalise, convert to RBG\n",
    "\n",
    "## List of test images\n",
    "# 20190213_PBS_blanks_aria_10X_eGFP1000_10_MMStack_Pos0.ome.tif\n",
    "# 20190213_PBS_Blanks_presort_10X_eGFP1000_1_MMStack_Pos0.ome.tif\n",
    "# 20190213_PBS_Blanks_presort_10X_eGFP1000_12_MMStack_Pos0.ome.tif\n",
    "# 20190213_PBS_blanks_aria_10X_eGFP1000_2_MMStack_Pos0.ome.tif\n",
    "\n",
    "img = cv2.imread('/Users/gaeunkim/Desktop/beads_data/circle_detect/20190213_PBS_blanks_aria_10X_eGFP1000_2_MMStack_Pos0.ome.tif',0)\n",
    "img = cv2.equalizeHist(img)"
   ]
  },
  {
   "cell_type": "code",
   "execution_count": null,
   "metadata": {
    "collapsed": true
   },
   "outputs": [],
   "source": [
    "# Crop ROI\n",
    "roi_size = 500\n",
    "width = int(math.sqrt(img.size))\n",
    "height = int(math.sqrt(img.size))\n",
    "start_x = width//2 - (roi_size//2)\n",
    "start_y = height//2 - (roi_size//2)\n",
    "img = img[start_y:start_y+roi_size,start_x:start_x+roi_size]"
   ]
  },
  {
   "cell_type": "code",
   "execution_count": null,
   "metadata": {
    "collapsed": true
   },
   "outputs": [],
   "source": [
    "# Adaptive thresholding\n",
    "img_th = cv.adaptiveThreshold(img, 400, cv.ADAPTIVE_THRESH_MEAN_C, \\\n",
    "                             cv.THRESH_BINARY, 11, 2)"
   ]
  },
  {
   "cell_type": "code",
   "execution_count": null,
   "metadata": {
    "collapsed": true
   },
   "outputs": [],
   "source": [
    "# Sharpening\n",
    "sharp_frame = cv.GaussianBlur(img_th, (3,3), 0)\n",
    "img_sharp = cv.addWeighted(sharp_frame, -0.5, img_th, 1.5, 0)"
   ]
  },
  {
   "cell_type": "code",
   "execution_count": null,
   "metadata": {
    "collapsed": true
   },
   "outputs": [],
   "source": [
    "# Denoising\n",
    "img_denoise = cv.fastNlMeansDenoising(img_sharp, 5, 21, 7)"
   ]
  },
  {
   "cell_type": "code",
   "execution_count": null,
   "metadata": {
    "collapsed": true
   },
   "outputs": [],
   "source": [
    "# Hough circle detection\n",
    "circles = cv2.HoughCircles(img_denoise, cv2.HOUGH_GRADIENT, dp=1, minDist=15, param1=60, param2=30, minRadius=10, maxRadius=25)\n",
    "circles = np.uint16(np.around(circles))\n",
    "circles.shape = circles.shape[1],3  # Reshape array to make it 2D"
   ]
  },
  {
   "cell_type": "code",
   "execution_count": null,
   "metadata": {
    "collapsed": true
   },
   "outputs": [],
   "source": [
    "# # Draw outer circles\n",
    "# for i in circles[0:]:\n",
    "#     cv2.circle(img,(i[0],i[1]),i[2],(0,255,0),2)\n",
    "    \n",
    "# cv2.imwrite(\"/Users/gaeunkim/Desktop/beads_data/circle_detect/new_script_test/TEST_500roi.jpg\", img)"
   ]
  },
  {
   "cell_type": "code",
   "execution_count": null,
   "metadata": {
    "collapsed": true
   },
   "outputs": [],
   "source": [
    "# # class outCircle:\n",
    "# #     def __init__(self, center_x, center_y, radius):\n",
    "# #         self.center_x = center_x\n",
    "# #         self.center_y = center_y\n",
    "# #         self.radius = radius\n",
    "    \n",
    "# in_circles = np.empty(shape=[0,3])\n",
    "\n",
    "# for i in circles[0:]:\n",
    "#     mask_radius = i[2]\n",
    "#     mask = np.zeros((img.shape[0],img.shape[1]),np.uint8)\n",
    "#     cv2.circle(mask,(i[0],i[1]),i[2],(255,255,255),-1) # draw circles on mask\n",
    "    \n",
    "#     masked_img = cv2.bitwise_and(img, img, mask=mask) # create mask\n",
    "#     masked_img_th = cv.adaptiveThreshold(masked_img, 700, cv.ADAPTIVE_THRESH_GAUSSIAN_C, \\\n",
    "#                              cv.THRESH_BINARY, 11, 2) # threshold ROI\n",
    "    \n",
    "#     # contrast enhancement (contrast limited adaptive histogram equalisation??)\n",
    "#     clahe = cv2.createCLAHE(clipLimit=2.0, tileGridSize=(8,8))\n",
    "#     masked_img_con = clahe.apply(img)\n",
    "#     # cv2.imwrite('clahe_2.jpg',cl1)\n",
    "    \n",
    "    \n",
    "\n",
    "    \n",
    "#     max_rad = i[2]\n",
    "#     # inner circle detection\n",
    "#     mask_circles = cv2.HoughCircles(masked_img_th, cv2.HOUGH_GRADIENT, dp=1, minDist=15, param1=15, param2=30, minRadius=1, maxRadius=30)\n",
    "#     mask_circles = np.uint16(np.around(mask_circles))\n",
    "#     mask_circles.shape = mask_circles.shape[1],3\n",
    "#     in_circles = np.append(in_circles, mask_circles, axis=0)\n",
    "    \n",
    "#     # draw inner circles\n",
    "#     cv2.circle(img,(mask_circles[0][0],mask_circles[0][1]),mask_circles[0][2],(0,255,0),2)\n",
    "\n",
    "# cv2.imwrite(\"/Users/gaeunkim/Desktop/beads_data/circle_detect/new_script_test/in_500roi.jpg\", img)"
   ]
  },
  {
   "cell_type": "code",
   "execution_count": null,
   "metadata": {
    "collapsed": true
   },
   "outputs": [],
   "source": [
    "# ### test on individual bead\n",
    "# index = 21\n",
    "\n",
    "# mask_radius = circles[index][2]\n",
    "# mask = np.zeros((img.shape[0],img.shape[1]),np.uint8)\n",
    "# cv2.circle(mask,(circles[index][0],circles[index][1]),circles[index][2],(255,255,255),-1)\n",
    "# # cv2.imshow('mask', mask)\n",
    "\n",
    "# masked_img = cv2.bitwise_and(img, img, mask=mask)\n",
    "# # cv2.imshow('detected',masked_img)\n",
    "# # cv2.waitKey(0)\n",
    "# # cv2.destroyAllWindows()\n",
    "# cv2.imwrite(\"/Users/gaeunkim/Desktop/beads_data/circle_detect/new_script_test/TEST_MASKED4.jpg\", masked_img)\n",
    "\n",
    "# # CONTRAST ENHANCE\n",
    "# clahe = cv2.createCLAHE(clipLimit=15, tileGridSize=(2,2)) # keep this, may work\n",
    "# masked_img_con = clahe.apply(masked_img)\n",
    "# cv2.imwrite('/Users/gaeunkim/Desktop/beads_data/circle_detect/new_script_test/clahe_2.jpg',masked_img_con)\n",
    "\n",
    "# # THRESHOLDING\n",
    "# masked_img_th = cv.adaptiveThreshold(masked_img_con, 700, cv.ADAPTIVE_THRESH_GAUSSIAN_C, \\\n",
    "#                              cv.THRESH_BINARY, 11, 2)\n",
    "# cv2.imwrite(\"/Users/gaeunkim/Desktop/beads_data/circle_detect/new_script_test/TEST_THRESHOLD4.jpg\", masked_img_th)\n",
    "\n",
    "# # NOISE REMOVAL\n",
    "# open_kernel = np.ones((2,2),np.uint8)\n",
    "# masked_img_denoise = cv2.morphologyEx(masked_img_th, cv2.MORPH_OPEN, open_kernel, iterations = 2)\n",
    "# cv2.imwrite(\"/Users/gaeunkim/Desktop/beads_data/circle_detect/new_script_test/TEST_OPEN4.jpg\", masked_img_denoise)\n",
    "\n",
    "# # INVERSION OF IMAGE\n",
    "# masked_img_inv = cv2.bitwise_not(masked_img_denoise)\n",
    "# cv2.imwrite(\"/Users/gaeunkim/Desktop/beads_data/circle_detect/new_script_test/TEST_INV4.jpg\", masked_img_inv)\n",
    "\n",
    "\n",
    "# max_rad = circles[index][2]\n",
    "# print(max_rad)\n",
    "# mask_circles = cv2.HoughCircles(masked_img_inv, cv2.HOUGH_GRADIENT, dp=17, minDist=max_rad, param1=10, param2=50, minRadius=2, maxRadius=max_rad)\n",
    "# mask_circles = np.uint16(np.around(mask_circles))\n",
    "# mask_circles.shape = mask_circles.shape[1],3\n",
    "# print(mask_circles)\n",
    "\n",
    "# cv2.circle(masked_img,(mask_circles[0][0],mask_circles[0][1]),mask_circles[0][2],(0,255,0),2)\n",
    "\n",
    "# cv2.imwrite(\"/Users/gaeunkim/Desktop/beads_data/circle_detect/new_script_test/TEST_RESULT4.jpg\", masked_img)"
   ]
  },
  {
   "cell_type": "code",
   "execution_count": null,
   "metadata": {
    "collapsed": true
   },
   "outputs": [],
   "source": [
    "# LET'S CROP AN ROI AROUND ONE SINGLE SOLITARY INDIVIDUAL BEAD\n",
    "\n",
    "index = 12\n",
    "\n",
    "mask_center_x = circles[index][0]\n",
    "mask_center_y = circles[index][1]\n",
    "mask_radius = circles[index][2]\n",
    "mask = np.zeros((img.shape[0],img.shape[1]),np.uint8)\n",
    "cv2.circle(mask,(mask_center_x,mask_center_y),mask_radius,(255,255,255),-1)\n",
    "# cv2.imshow('mask', mask)\n",
    "\n",
    "masked_img = cv2.bitwise_and(img, img, mask=mask)\n",
    "# cv2.imshow('detected',masked_img)\n",
    "# cv2.waitKey(0)\n",
    "# cv2.destroyAllWindows()\n",
    "cv2.imwrite('/Users/gaeunkim/Desktop/beads_data/circle_detect/new_script_test/20190314_test/TEST_MASKED' + str(index) + '.jpg', masked_img)\n",
    "\n",
    "print(mask_center_x)\n",
    "print(mask_center_y)\n",
    "print(mask_radius)\n",
    "\n",
    "start_y = mask_center_y - mask_radius\n",
    "end_y = mask_center_y + mask_radius\n",
    "start_x = mask_center_x - mask_radius\n",
    "end_x = mask_center_x + mask_radius\n",
    "\n",
    "# CROP ROI AROUND BEAD\n",
    "bead_roi = masked_img[start_y:end_y, start_x:end_x]\n",
    "cv2.imwrite('/Users/gaeunkim/Desktop/beads_data/circle_detect/new_script_test/20190314_test/TEST_MASKED' + str(index) + '.jpg', bead_roi)\n",
    "\n",
    "# CONTRAST ENHANCE\n",
    "clahe = cv2.createCLAHE(clipLimit=15, tileGridSize=(3,3)) # keep this, may work\n",
    "masked_img_con = clahe.apply(bead_roi)\n",
    "cv2.imwrite('/Users/gaeunkim/Desktop/beads_data/circle_detect/new_script_test/20190314_test/clahe_' + str(index) + '.jpg' ,masked_img_con)\n",
    "\n",
    "# THRESHOLDING\n",
    "masked_img_th = cv.adaptiveThreshold(masked_img_con, 200, cv.ADAPTIVE_THRESH_GAUSSIAN_C, cv.THRESH_BINARY, 23, 2)\n",
    "cv2.imwrite('/Users/gaeunkim/Desktop/beads_data/circle_detect/new_script_test/20190314_test/TEST_THRESHOLD' + str(index) + '.jpg', masked_img_th)\n",
    "\n",
    "# OPEN MORPHOLOGY\n",
    "open_kernel = np.ones((3,3),np.uint8)\n",
    "masked_img_denoise = cv2.morphologyEx(masked_img_th, cv2.MORPH_OPEN, open_kernel)\n",
    "cv2.imwrite('/Users/gaeunkim/Desktop/beads_data/circle_detect/new_script_test/20190314_test/TEST_OPEN' + str(index) + '.jpg', masked_img_denoise)\n",
    "\n",
    "# INVERSION\n",
    "masked_img_inv = cv2.bitwise_not(masked_img_denoise)\n",
    "cv2.imwrite('/Users/gaeunkim/Desktop/beads_data/circle_detect/new_script_test/20190314_test/TEST_INV' + str(index) + '.jpg', masked_img_inv)\n",
    "\n",
    "# CLOSING MORPHOLOGY\n",
    "close_kernel = np.ones((4,4),np.uint8)\n",
    "masked_img_close = cv2.morphologyEx(masked_img_inv, cv.MORPH_CLOSE, close_kernel)\n",
    "cv2.imwrite('/Users/gaeunkim/Desktop/beads_data/circle_detect/new_script_test/20190314_test/TEST_CLOSE' + str(index) + '.jpg', masked_img_close)\n",
    "\n",
    "# CHANGE THIS IF ADDING METHODS\n",
    "masked_img_final = masked_img_close\n",
    "\n",
    "# DETECT CIRCLES\n",
    "mask_circles = cv2.HoughCircles(masked_img_final, cv2.HOUGH_GRADIENT, dp=12, minDist=mask_radius, param1=10, param2=mask_radius, minRadius=6, maxRadius=mask_radius)\n",
    "mask_circles = np.uint16(np.around(mask_circles))\n",
    "mask_circles.shape = mask_circles.shape[1],3\n",
    "print(mask_circles)\n",
    "\n",
    "cv2.circle(masked_img_final,(mask_circles[0][0],mask_circles[0][1]),mask_circles[0][2],(255,255,255),2)\n",
    "\n",
    "# Coordinates for drawing\n",
    "circle_x = start_x + mask_circles[0][0]\n",
    "circle_y = start_y + mask_circles[0][1]\n",
    "cv2.circle(masked_img, (circle_x, circle_y), mask_circles[0][2], (0, 255, 0), 2)\n",
    "cv2.imwrite('/Users/gaeunkim/Desktop/beads_data/circle_detect/new_script_test/20190314_test/TEST_RESULT' + str(index) + '.jpg', masked_img)\n",
    "\n",
    "\n",
    "# cv2.imwrite(\"/Users/gaeunkim/Desktop/beads_data/circle_detect/new_script_test/TEST_RESULT5.jpg\", masked_img_final)"
   ]
  },
  {
   "cell_type": "code",
   "execution_count": null,
   "metadata": {
    "collapsed": true
   },
   "outputs": [],
   "source": [
    "# TEST THROUGH AN INCREDIBLY INEFFICIENT FOR LOOP\n",
    "\n",
    "img = cv2.imread('/Users/gaeunkim/Desktop/beads_data/circle_detect/20190213_PBS_blanks_aria_10X_eGFP1000_2_MMStack_Pos0.ome.tif',0)\n",
    "img = cv2.equalizeHist(img)\n",
    "roi_size = 500\n",
    "width = int(math.sqrt(img.size))\n",
    "height = int(math.sqrt(img.size))\n",
    "start_x = width//2 - (roi_size//2)\n",
    "start_y = height//2 - (roi_size//2)\n",
    "img = img[start_y:start_y+roi_size,start_x:start_x+roi_size]\n",
    "\n",
    "in_circles = np.empty(shape=[0,3])\n",
    "\n",
    "for i in circles[0:48]:\n",
    "    mask_center_x = i[0]\n",
    "    mask_center_y = i[1]\n",
    "    mask_radius = i[2]\n",
    "    mask = np.zeros((img.shape[0],img.shape[1]),np.uint8)\n",
    "    cv2.circle(mask,(mask_center_x,mask_center_y),mask_radius,(255,255,255),-1)\n",
    "    \n",
    "    masked_img = cv2.bitwise_and(img, img, mask=mask)\n",
    "    \n",
    "    start_y = mask_center_y - mask_radius\n",
    "    end_y = mask_center_y + mask_radius\n",
    "    start_x = mask_center_x - mask_radius\n",
    "    end_x = mask_center_x + mask_radius\n",
    "    \n",
    "    # CROP ROI AROUND BEAD\n",
    "    bead_roi = masked_img[start_y:end_y, start_x:end_x]\n",
    "    \n",
    "    # CONTRAST ENHANCE\n",
    "    clahe = cv2.createCLAHE(clipLimit=15, tileGridSize=(3,3)) # keep this, may work\n",
    "    masked_img_con = clahe.apply(bead_roi)\n",
    "    \n",
    "    # THRESHOLDING\n",
    "    masked_img_th = cv.adaptiveThreshold(masked_img_con, 200, cv.ADAPTIVE_THRESH_GAUSSIAN_C, cv.THRESH_BINARY, 23, 2)\n",
    "    \n",
    "    # OPEN MORPHOLOGY\n",
    "    open_kernel = np.ones((3,3),np.uint8)\n",
    "    masked_img_denoise = cv2.morphologyEx(masked_img_th, cv2.MORPH_OPEN, kernel=open_kernel)\n",
    "    \n",
    "    # INVERSION\n",
    "    masked_img_inv = cv2.bitwise_not(masked_img_denoise)\n",
    "    \n",
    "    # CLOSING MORPHOLOGY\n",
    "    close_kernel = np.ones((4,4),np.uint8)\n",
    "    masked_img_close = cv2.morphologyEx(masked_img_inv, cv.MORPH_CLOSE, close_kernel)\n",
    "    \n",
    "    # CHANGE THIS IF ADDING METHODS\n",
    "    masked_img_final = masked_img_close\n",
    "\n",
    "    # DETECT CIRCLES\n",
    "    mask_circles = cv2.HoughCircles(masked_img_final, cv2.HOUGH_GRADIENT, dp=13, minDist=mask_radius, param1=10, param2=mask_radius, minRadius=2, maxRadius=mask_radius)\n",
    "    mask_circles = np.uint16(np.around(mask_circles))\n",
    "    mask_circles.shape = mask_circles.shape[1],3\n",
    "    \n",
    "    # Coordinates for drawing\n",
    "    mask_circles[0][0] = start_x + mask_circles[0][0]\n",
    "    mask_circles[0][1] = start_y + mask_circles[0][1]\n",
    "    cv2.circle(img, (mask_circles[0][0], mask_circles[0][1]), mask_circles[0][2], (0, 255, 0), 2)\n",
    "    \n",
    "    in_circles = np.append(in_circles, mask_circles, axis=0)\n",
    "    \n",
    "cv2.imwrite('/Users/gaeunkim/Desktop/beads_data/circle_detect/new_script_test/20190314_test/TEST_RESULT_LOOP2' + '.jpg', img)    "
   ]
  },
  {
   "cell_type": "code",
   "execution_count": null,
   "metadata": {
    "collapsed": true
   },
   "outputs": [],
   "source": [
    "print(in_circles)"
   ]
  },
  {
   "cell_type": "code",
   "execution_count": null,
   "metadata": {
    "collapsed": true
   },
   "outputs": [],
   "source": [
    "# sighhhh watershed transform\n",
    "def circle_find(mask, circles):\n",
    "    D = ndi.distance_transform_edt(mask, sampling=1)\n",
    "    markers_circles = np.zeros_like(mask)\n",
    "    for _, circle in enumerate(circles):\n",
    "        markers_circles[int(circle[1]), int(circle[0])] = 1\n",
    "    markers = ndi.label(markers_circles, structure=np.ones((3, 3)))[0]\n",
    "    labels = sk.morphology.watershed(np.negative(D), markers, mask=mask)\n",
    "    # print(\"Number of unique segments found: {}\".format(\n",
    "    #     len(np.unique(labels)) - 1))\n",
    "    return labels\n",
    "\n",
    "index = 21\n",
    "mask = np.zeros((img.shape[0],img.shape[1]),np.uint8)\n",
    "cv2.circle(mask,(circles[index][0],circles[index][1]),circles[index][2],(255,255,255),-1)\n",
    "circle_find(mask, circles)"
   ]
  },
  {
   "cell_type": "code",
   "execution_count": null,
   "metadata": {
    "collapsed": true
   },
   "outputs": [],
   "source": [
    "# Segmentation of outer circles\n",
    "circles.shape = 63, 3\n",
    "c_data = pd.DataFrame(circles[0:,0:])\n",
    "print(c_data)"
   ]
  },
  {
   "cell_type": "code",
   "execution_count": null,
   "metadata": {
    "collapsed": true
   },
   "outputs": [],
   "source": [
    "# Show/save image\n",
    "#cv2.imwrite(\"/Users/gaeunkim/Desktop/beads_data/circle_detect/test_results_2/TEST_denoise3_mean400_15_100_20_10_25.jpg\", img)\n",
    "\n",
    "# cv2.imshow('detected',img)\n",
    "# cv2.waitKey(0)\n",
    "# cv2.destroyAllWindows()"
   ]
  },
  {
   "cell_type": "code",
   "execution_count": null,
   "metadata": {
    "collapsed": true,
    "scrolled": true
   },
   "outputs": [],
   "source": [
    "# Inner circle detection\n",
    "in_circles = cv2.HoughCircles(img, cv2.HOUGH_GRADIENT, dp=1, minDist=8, param1=50, param2=30, minRadius=2, maxRadius=15)\n",
    "in_circles = np.uint16(np.around(in_circles))\n",
    "\n",
    "# Draw inner circles\n",
    "for i in in_circles[0,:]:\n",
    "    cv2.circle(img,(i[0],i[1]),i[2],(0,255,0),2)\n",
    "    \n",
    "# Save image\n",
    "cv2.imwrite(\"/Users/gaeunkim/Desktop/beads_data/circle_detect/test_results/TEST_denoise3_mean400_15_60_30_10-25_2-15_inout.jpg\", img)"
   ]
  },
  {
   "cell_type": "code",
   "execution_count": null,
   "metadata": {
    "collapsed": true
   },
   "outputs": [],
   "source": []
  }
 ],
 "metadata": {
  "kernelspec": {
   "display_name": "Python 3",
   "language": "python",
   "name": "python3"
  },
  "language_info": {
   "codemirror_mode": {
    "name": "ipython",
    "version": 3
   },
   "file_extension": ".py",
   "mimetype": "text/x-python",
   "name": "python",
   "nbconvert_exporter": "python",
   "pygments_lexer": "ipython3",
   "version": "3.6.8"
  }
 },
 "nbformat": 4,
 "nbformat_minor": 2
}
